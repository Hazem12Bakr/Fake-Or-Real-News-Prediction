{
 "cells": [
  {
   "cell_type": "code",
   "execution_count": 14,
   "id": "331b2240",
   "metadata": {},
   "outputs": [],
   "source": [
    "import numpy as np\n",
    "import pandas as pd\n",
    "import matplotlib.pyplot as plt\n",
    "# re(regular expression) is a module for string matching\n",
    "# and searching for a text at a specific pattern or directory.\n",
    "import re\n",
    "from nltk.corpus import stopwords\n",
    "from nltk.stem.porter import PorterStemmer\n",
    "from sklearn.feature_extraction.text import TfidfVectorizer\n",
    "from sklearn.model_selection import train_test_split\n",
    "from sklearn.linear_model import LogisticRegression\n",
    "from sklearn.metrics import accuracy_score"
   ]
  },
  {
   "cell_type": "code",
   "execution_count": 6,
   "id": "cf6127f5",
   "metadata": {},
   "outputs": [
    {
     "name": "stderr",
     "output_type": "stream",
     "text": [
      "[nltk_data] Downloading package stopwords to\n",
      "[nltk_data]     C:\\Users\\Laptop\\AppData\\Roaming\\nltk_data...\n",
      "[nltk_data]   Package stopwords is already up-to-date!\n"
     ]
    },
    {
     "data": {
      "text/plain": [
       "True"
      ]
     },
     "execution_count": 6,
     "metadata": {},
     "output_type": "execute_result"
    }
   ],
   "source": [
    "import nltk\n",
    "nltk.download('stopwords')"
   ]
  },
  {
   "cell_type": "code",
   "execution_count": 16,
   "id": "2c306432",
   "metadata": {},
   "outputs": [],
   "source": [
    "import warnings\n",
    "\n",
    "# Ignore all warnings\n",
    "warnings.filterwarnings('ignore')"
   ]
  },
  {
   "cell_type": "code",
   "execution_count": 7,
   "id": "697e2d6d",
   "metadata": {},
   "outputs": [
    {
     "name": "stdout",
     "output_type": "stream",
     "text": [
      "['a', 'about', 'above', 'after', 'again', 'against', 'ain', 'all', 'am', 'an', 'and', 'any', 'are', 'aren', \"aren't\", 'as', 'at', 'be', 'because', 'been', 'before', 'being', 'below', 'between', 'both', 'but', 'by', 'can', 'couldn', \"couldn't\", 'd', 'did', 'didn', \"didn't\", 'do', 'does', 'doesn', \"doesn't\", 'doing', 'don', \"don't\", 'down', 'during', 'each', 'few', 'for', 'from', 'further', 'had', 'hadn', \"hadn't\", 'has', 'hasn', \"hasn't\", 'have', 'haven', \"haven't\", 'having', 'he', \"he'd\", \"he'll\", 'her', 'here', 'hers', 'herself', \"he's\", 'him', 'himself', 'his', 'how', 'i', \"i'd\", 'if', \"i'll\", \"i'm\", 'in', 'into', 'is', 'isn', \"isn't\", 'it', \"it'd\", \"it'll\", \"it's\", 'its', 'itself', \"i've\", 'just', 'll', 'm', 'ma', 'me', 'mightn', \"mightn't\", 'more', 'most', 'mustn', \"mustn't\", 'my', 'myself', 'needn', \"needn't\", 'no', 'nor', 'not', 'now', 'o', 'of', 'off', 'on', 'once', 'only', 'or', 'other', 'our', 'ours', 'ourselves', 'out', 'over', 'own', 're', 's', 'same', 'shan', \"shan't\", 'she', \"she'd\", \"she'll\", \"she's\", 'should', 'shouldn', \"shouldn't\", \"should've\", 'so', 'some', 'such', 't', 'than', 'that', \"that'll\", 'the', 'their', 'theirs', 'them', 'themselves', 'then', 'there', 'these', 'they', \"they'd\", \"they'll\", \"they're\", \"they've\", 'this', 'those', 'through', 'to', 'too', 'under', 'until', 'up', 've', 'very', 'was', 'wasn', \"wasn't\", 'we', \"we'd\", \"we'll\", \"we're\", 'were', 'weren', \"weren't\", \"we've\", 'what', 'when', 'where', 'which', 'while', 'who', 'whom', 'why', 'will', 'with', 'won', \"won't\", 'wouldn', \"wouldn't\", 'y', 'you', \"you'd\", \"you'll\", 'your', \"you're\", 'yours', 'yourself', 'yourselves', \"you've\"]\n"
     ]
    }
   ],
   "source": [
    "# Printing the list of English stopwords\n",
    "print(stopwords.words('english'))"
   ]
  },
  {
   "cell_type": "markdown",
   "id": "b93bcb28",
   "metadata": {},
   "source": [
    "Data Preprocessing"
   ]
  },
  {
   "cell_type": "code",
   "execution_count": 8,
   "id": "4f43beef",
   "metadata": {},
   "outputs": [
    {
     "name": "stdout",
     "output_type": "stream",
     "text": [
      "                                                URLs  \\\n",
      "0  http://www.bbc.com/news/world-us-canada-414191...   \n",
      "1  https://www.reuters.com/article/us-filmfestiva...   \n",
      "2  https://www.nytimes.com/2017/10/09/us/politics...   \n",
      "3  https://www.reuters.com/article/us-mexico-oil-...   \n",
      "4  http://www.cnn.com/videos/cnnmoney/2017/10/08/...   \n",
      "\n",
      "                                            Headline  \\\n",
      "0         Four ways Bob Corker skewered Donald Trump   \n",
      "1  Linklater's war veteran comedy speaks to moder...   \n",
      "2  Trump’s Fight With Corker Jeopardizes His Legi...   \n",
      "3  Egypt's Cheiron wins tie-up with Pemex for Mex...   \n",
      "4        Jason Aldean opens 'SNL' with Vegas tribute   \n",
      "\n",
      "                                                Body  Label  \n",
      "0  Image copyright Getty Images\\nOn Sunday mornin...      1  \n",
      "1  LONDON (Reuters) - “Last Flag Flying”, a comed...      1  \n",
      "2  The feud broke into public view last week when...      1  \n",
      "3  MEXICO CITY (Reuters) - Egypt’s Cheiron Holdin...      1  \n",
      "4  Country singer Jason Aldean, who was performin...      1  \n"
     ]
    }
   ],
   "source": [
    "# Load the dataset\n",
    "df = pd.read_csv('data.csv')\n",
    "\n",
    "# print the first 5 rows of the dataset\n",
    "print(df.head())"
   ]
  },
  {
   "cell_type": "code",
   "execution_count": 9,
   "id": "7678a7cf",
   "metadata": {},
   "outputs": [
    {
     "data": {
      "text/plain": [
       "(4009, 4)"
      ]
     },
     "execution_count": 9,
     "metadata": {},
     "output_type": "execute_result"
    }
   ],
   "source": [
    "df.shape"
   ]
  },
  {
   "cell_type": "code",
   "execution_count": 10,
   "id": "504a7b9f",
   "metadata": {},
   "outputs": [
    {
     "data": {
      "text/plain": [
       "Index(['URLs', 'Headline', 'Body', 'Label'], dtype='object')"
      ]
     },
     "execution_count": 10,
     "metadata": {},
     "output_type": "execute_result"
    }
   ],
   "source": [
    "df.columns"
   ]
  },
  {
   "cell_type": "code",
   "execution_count": 11,
   "id": "9675a94e",
   "metadata": {},
   "outputs": [
    {
     "data": {
      "text/plain": [
       "Index(['URLs', 'title', 'Body', 'Label'], dtype='object')"
      ]
     },
     "execution_count": 11,
     "metadata": {},
     "output_type": "execute_result"
    }
   ],
   "source": [
    "df = df.rename(columns={'Headline': 'title'})\n",
    "df.columns"
   ]
  },
  {
   "cell_type": "code",
   "execution_count": null,
   "id": "722853d5",
   "metadata": {},
   "outputs": [],
   "source": [
    "# Drop the 'URLs' column\n",
    "# This column is not needed for the analysis\n",
    "# This operation has been performed lately.\n",
    "df = df.drop(columns=['URLs'])"
   ]
  },
  {
   "cell_type": "code",
   "execution_count": 12,
   "id": "88b1dc96",
   "metadata": {},
   "outputs": [
    {
     "data": {
      "text/plain": [
       "0       1\n",
       "1       1\n",
       "2       1\n",
       "3       1\n",
       "4       1\n",
       "       ..\n",
       "4004    0\n",
       "4005    0\n",
       "4006    0\n",
       "4007    1\n",
       "4008    0\n",
       "Name: Label, Length: 4009, dtype: int64"
      ]
     },
     "execution_count": 12,
     "metadata": {},
     "output_type": "execute_result"
    }
   ],
   "source": [
    "# 1--> fake\n",
    "# 0--> real\n",
    "df['Label']"
   ]
  },
  {
   "cell_type": "code",
   "execution_count": null,
   "id": "a37f3b60",
   "metadata": {},
   "outputs": [
    {
     "data": {
      "image/png": "[encoded data removed]",
      "text/plain": [
       "<Figure size 1000x500 with 1 Axes>"
      ]
     },
     "metadata": {},
     "output_type": "display_data"
    }
   ],
   "source": [
    "plt.figure(figsize=(10, 5))\n",
    "df['Label'].value_counts().plot(kind='bar')\n",
    "plt.title('Distribution of Fake and Real News')\n",
    "plt.xlabel('News Type')\n",
    "plt.ylabel('Count')\n",
    "plt.xticks(ticks=[0, 1], labels=['Real', 'Fake'], rotation=0)\n",
    "plt.show()"
   ]
  },
  {
   "cell_type": "code",
   "execution_count": null,
   "id": "62be1e0a",
   "metadata": {},
   "outputs": [
    {
     "name": "stdout",
     "output_type": "stream",
     "text": [
      "<class 'pandas.core.frame.DataFrame'>\n",
      "RangeIndex: 4009 entries, 0 to 4008\n",
      "Data columns (total 4 columns):\n",
      " #   Column   Non-Null Count  Dtype \n",
      "---  ------   --------------  ----- \n",
      " 0   title    4009 non-null   object\n",
      " 1   Body     4009 non-null   object\n",
      " 2   Label    4009 non-null   int64 \n",
      " 3   content  4009 non-null   object\n",
      "dtypes: int64(1), object(3)\n",
      "memory usage: 125.4+ KB\n"
     ]
    }
   ],
   "source": [
    "# this operation has been updated lately,\n",
    "# so you will find that the body col has no nulls.\n",
    "df.info()"
   ]
  },
  {
   "cell_type": "code",
   "execution_count": 18,
   "id": "958d2634",
   "metadata": {},
   "outputs": [
    {
     "data": {
      "text/plain": [
       "URLs      0\n",
       "title     0\n",
       "Body     21\n",
       "Label     0\n",
       "dtype: int64"
      ]
     },
     "execution_count": 18,
     "metadata": {},
     "output_type": "execute_result"
    }
   ],
   "source": [
    "df.isnull().sum()"
   ]
  },
  {
   "cell_type": "code",
   "execution_count": 19,
   "id": "aa53398a",
   "metadata": {},
   "outputs": [],
   "source": [
    "#Replacing the null values with empty string\n",
    "df['Body'] = df['Body'].fillna('')"
   ]
  },
  {
   "cell_type": "code",
   "execution_count": 20,
   "id": "0f651b2f",
   "metadata": {},
   "outputs": [
    {
     "data": {
      "text/plain": [
       "URLs     0\n",
       "title    0\n",
       "Body     0\n",
       "Label    0\n",
       "dtype: int64"
      ]
     },
     "execution_count": 20,
     "metadata": {},
     "output_type": "execute_result"
    }
   ],
   "source": [
    "df.isnull().sum()"
   ]
  },
  {
   "cell_type": "code",
   "execution_count": 21,
   "id": "087e1962",
   "metadata": {},
   "outputs": [],
   "source": [
    "# combining the title and body into one column\n",
    "df['content'] = df['title']+' '+df['Body']"
   ]
  },
  {
   "cell_type": "code",
   "execution_count": 26,
   "id": "480ded40",
   "metadata": {},
   "outputs": [
    {
     "data": {
      "text/plain": [
       "Index(['title', 'Body', 'Label', 'content'], dtype='object')"
      ]
     },
     "execution_count": 26,
     "metadata": {},
     "output_type": "execute_result"
    }
   ],
   "source": [
    "df.columns"
   ]
  },
  {
   "cell_type": "code",
   "execution_count": 22,
   "id": "fbaa718b",
   "metadata": {},
   "outputs": [
    {
     "data": {
      "text/plain": [
       "0    Four ways Bob Corker skewered Donald Trump Ima...\n",
       "1    Linklater's war veteran comedy speaks to moder...\n",
       "2    Trump’s Fight With Corker Jeopardizes His Legi...\n",
       "3    Egypt's Cheiron wins tie-up with Pemex for Mex...\n",
       "4    Jason Aldean opens 'SNL' with Vegas tribute Co...\n",
       "Name: content, dtype: object"
      ]
     },
     "execution_count": 22,
     "metadata": {},
     "output_type": "execute_result"
    }
   ],
   "source": [
    "df['content'].head()"
   ]
  },
  {
   "cell_type": "code",
   "execution_count": 27,
   "id": "91110ed7",
   "metadata": {},
   "outputs": [],
   "source": [
    "# Seprating the data and label\n",
    "X = df.drop(columns='Label', axis=1)\n",
    "y = df['Label']"
   ]
  },
  {
   "cell_type": "code",
   "execution_count": 28,
   "id": "d220e175",
   "metadata": {},
   "outputs": [
    {
     "name": "stdout",
     "output_type": "stream",
     "text": [
      "                                                  title  \\\n",
      "0            Four ways Bob Corker skewered Donald Trump   \n",
      "1     Linklater's war veteran comedy speaks to moder...   \n",
      "2     Trump’s Fight With Corker Jeopardizes His Legi...   \n",
      "3     Egypt's Cheiron wins tie-up with Pemex for Mex...   \n",
      "4           Jason Aldean opens 'SNL' with Vegas tribute   \n",
      "...                                                 ...   \n",
      "4004                                    Trends to Watch   \n",
      "4005  Trump Jr. Is Soon To Give A 30-Minute Speech F...   \n",
      "4006        Ron Paul on Trump, Anarchism & the AltRight   \n",
      "4007  China to accept overseas trial data in bid to ...   \n",
      "4008  Vice President Mike Pence Leaves NFL Game Beca...   \n",
      "\n",
      "                                                   Body  \\\n",
      "0     Image copyright Getty Images\\nOn Sunday mornin...   \n",
      "1     LONDON (Reuters) - “Last Flag Flying”, a comed...   \n",
      "2     The feud broke into public view last week when...   \n",
      "3     MEXICO CITY (Reuters) - Egypt’s Cheiron Holdin...   \n",
      "4     Country singer Jason Aldean, who was performin...   \n",
      "...                                                 ...   \n",
      "4004  Trends to Watch\\n% of readers think this story...   \n",
      "4005  Trump Jr. Is Soon To Give A 30-Minute Speech F...   \n",
      "4006                                                      \n",
      "4007  SHANGHAI (Reuters) - China said it plans to ac...   \n",
      "4008  Vice President Mike Pence Leaves NFL Game Beca...   \n",
      "\n",
      "                                                content  \n",
      "0     Four ways Bob Corker skewered Donald Trump Ima...  \n",
      "1     Linklater's war veteran comedy speaks to moder...  \n",
      "2     Trump’s Fight With Corker Jeopardizes His Legi...  \n",
      "3     Egypt's Cheiron wins tie-up with Pemex for Mex...  \n",
      "4     Jason Aldean opens 'SNL' with Vegas tribute Co...  \n",
      "...                                                 ...  \n",
      "4004  Trends to Watch Trends to Watch\\n% of readers ...  \n",
      "4005  Trump Jr. Is Soon To Give A 30-Minute Speech F...  \n",
      "4006       Ron Paul on Trump, Anarchism & the AltRight   \n",
      "4007  China to accept overseas trial data in bid to ...  \n",
      "4008  Vice President Mike Pence Leaves NFL Game Beca...  \n",
      "\n",
      "[4009 rows x 3 columns]\n"
     ]
    }
   ],
   "source": [
    "print(X)"
   ]
  },
  {
   "cell_type": "code",
   "execution_count": 29,
   "id": "4cde05d3",
   "metadata": {},
   "outputs": [
    {
     "name": "stdout",
     "output_type": "stream",
     "text": [
      "0       1\n",
      "1       1\n",
      "2       1\n",
      "3       1\n",
      "4       1\n",
      "       ..\n",
      "4004    0\n",
      "4005    0\n",
      "4006    0\n",
      "4007    1\n",
      "4008    0\n",
      "Name: Label, Length: 4009, dtype: int64\n"
     ]
    }
   ],
   "source": [
    "print(y)"
   ]
  },
  {
   "cell_type": "code",
   "execution_count": null,
   "id": "465de812",
   "metadata": {},
   "outputs": [],
   "source": []
  },
  {
   "cell_type": "code",
   "execution_count": 30,
   "metadata": {},
   "outputs": [
    {
     "data": {
      "text/plain": [
       "((4009, 3), (4009,))"
      ]
     },
     "execution_count": 30,
     "metadata": {},
     "output_type": "execute_result"
    }
   ],
   "source": [
    "X.shape, y.shape"
   ]
  },
  {
   "cell_type": "markdown",
   "id": "7506a62f",
   "metadata": {},
   "source": [
    "Stemming:\n",
    "Stemming is the process of reducing a work to its Root word\n",
    "Example:\n",
    "actor, actess, acting --> act"
   ]
  },
  {
   "cell_type": "code",
   "execution_count": 31,
   "id": "70da654b",
   "metadata": {},
   "outputs": [],
   "source": [
    "port_stem = PorterStemmer()"
   ]
  },
  {
   "cell_type": "code",
   "execution_count": 32,
   "metadata": {},
   "outputs": [],
   "source": [
    "def stemming(content):\n",
    "    stemmed_content = re.sub('[^a-zA-Z]', ' ', content) # Remove all non-alphabetic characters and replace them with space\n",
    "    stemmed_content = stemmed_content.lower() # Convert to lowercase\n",
    "    stemmed_content = stemmed_content.split()\n",
    "    stemmed_content = [port_stem.stem(word) for word in stemmed_content if not word in stopwords.words('english')]\n",
    "    stemmed_content = ' '.join(stemmed_content)\n",
    "    return stemmed_content"
   ]
  },
  {
   "cell_type": "code",
   "execution_count": 33,
   "id": "db5aeddf",
   "metadata": {},
   "outputs": [],
   "source": [
    "df['content'] = df['content'].apply(stemming)"
   ]
  },
  {
   "cell_type": "code",
   "execution_count": 34,
   "id": "abdb7db9",
   "metadata": {},
   "outputs": [
    {
     "name": "stdout",
     "output_type": "stream",
     "text": [
      "0       four way bob corker skewer donald trump imag c...\n",
      "1       linklat war veteran comedi speak modern americ...\n",
      "2       trump fight corker jeopard legisl agenda feud ...\n",
      "3       egypt cheiron win tie pemex mexican onshor oil...\n",
      "4       jason aldean open snl vega tribut countri sing...\n",
      "                              ...                        \n",
      "4004    trend watch trend watch reader think stori fac...\n",
      "4005    trump jr soon give minut speech trump jr soon ...\n",
      "4006                       ron paul trump anarch altright\n",
      "4007    china accept oversea trial data bid speed drug...\n",
      "4008    vice presid mike penc leav nfl game anti ameri...\n",
      "Name: content, Length: 4009, dtype: object\n"
     ]
    }
   ],
   "source": [
    "print(df['content'])"
   ]
  },
  {
   "cell_type": "code",
   "execution_count": 35,
   "metadata": {},
   "outputs": [],
   "source": [
    "# Seprating the data and label\n",
    "X = df['content'].values\n",
    "y = df['Label'].values"
   ]
  },
  {
   "cell_type": "code",
   "execution_count": 36,
   "id": "3e140ec3",
   "metadata": {},
   "outputs": [
    {
     "name": "stdout",
     "output_type": "stream",
     "text": [
      "['four way bob corker skewer donald trump imag copyright getti imag sunday morn donald trump went twitter tirad member parti exactli huge news far first time presid turn rhetor cannon rank time howev attack particularli bite person essenti call tennesse senat bob corker chair power senat foreign relat committe coward run elect said mr corker beg presid endors refus give wrongli claim mr corker support iranian nuclear agreement polit accomplish unlik colleagu mr corker free worri immedi polit futur hold tongu skip twitter post senbobcork shame white hous becom adult day care center someon obvious miss shift morn senat bob corker senbobcork octob report end though spoke new york time realli let presid four choic quot tennesse senat interview time particularli damn know presid tweet thing true know everyon know realli sugarcoat one mr corker flat say presid liar everyon know senat particular challeng mr trump insist unsuccess plead endors accus much broader mr corker presid use someth akin alli tennessean mr trump short list vice presid secretari state imag copyright getti imag imag caption bob corker trump campaign ralli juli day seemingli much like mr corker go anywher anytim soon although run elect senat chair power committe januari presid margin success chamber razor thin democrat continu stand togeth opposit afford lose two vote republican senat healthcar reform collaps juli could bad news tax effort mr corker go presid favour look except peopl vast major caucu understand deal frustrat congress grow republican feel presid inabl focu advanc agenda get sharpli divid parti come togeth plan repeal obamacar reform tax boost infrastructur spend challeng enough presid stir unrel controversi seemingli daili basi make thing harder one presid gift abil shake neg stori quickli move differ subject work brilliantli presidenti campaign less effect legisl slow grind imag copyright getti imag imag caption corker confirm hear secretari state rex tillerson month republican congress grumbl background among occasion someon like mr mcconnel lament presid understand senat work mr corker state loud clear say almost everyon agre kept silent still hope pass conserv legisl presid sign fear mr trump legion back primari challeng next year stay home gener elect calculu ever chang becom riskier stay silent speak mr trump real troubl lot peopl think kind good cop bad cop act underway true time mr trump appear undercut secretari state rex tillerson other administr attempt use soft diplomaci deal rang intern crise war taliban afghanistan iran complianc multin nuclear agreement ongo disput qatar persian gulf neighbour unrest venezuela recent north korea continu ballist missil test target presid offhand remark twitter invect administr defend said part mr trump strategi updat version nixon era madman theori presid forc adversari give way fear unpredict us leader action mr corker buy strategi say possibl chao hope mr trump senior advis abl avoid know fact everi singl day white hous situat tri contain grow collect john kelli face palm photo serv testament chief staff report frustrat deal presid mr trump goe script prais torch bear white nationalist ralli charlottesvil mr kelli captur close eye rub arch nose attempt stave migrain imag copyright reuter imag caption white hous chief staff john kelli look us presid donald trump speak campaign ralli presid call north korean leader crimin speech unit nation mr kelli straight buri face hand white hous commun team often left scrambl tri explain refram indel presidenti joke remark directli contradict offici administr line even though mr kelli brought disciplin west wing staff presid still march beat drum continu unfett access phone twitter app bob corker latest person politician journalist sport star celebr feel mercuri presid uncontain ire'\n",
      " 'linklat war veteran comedi speak modern america say star london reuter last flag fli comedi drama vietnam war veteran reson trump america despit perhap period set actor bryan cranston said sunday screen london film festiv set unit state decemb u forc iraq drag saddam hussein spider hole stori three age former servicemen reunit buri son one kill action presid donald trump say could total destroy north korea character dinner militari command calm storm cranston said last flag fli time remind effect normal american ill advis militari campaign think lot relev today sens today clear cut far intent govern militari cranston acclaim lead role tv drama break bad told reuter world war two good war clear present danger stop mad man sinc vietnam iraq lot question among troop citizen right thing purpos cast member bryan cranston r director richard linklat pose festiv director clair stewart arriv premier last flag fli british film institut bfi london film festiv odeon leicest squar london britain octob reuter afolabi sotund last flag fli produc amazon studio direct co written richard linklat whose greatest critic acclaim naturalist sunset trilog boyhood slew oscar nomin linklat also made comedi includ school rock everybodi want skirt chase undergradu last flag fli fall somewher two genr cast member bryan cranston r pose director richard linklat arriv premier last flag fli british film institut bfi london film festiv odeon leicest squar london britain octob reuter afolabi sotund drama comedi stem chemistri three lead play big hollywood name steve carel awkward shi one assum quiet withdrawn even loss son cranston play foul mouth hard drink bar owner best custom laurenc fishburn man found god becom evangel preacher prefer forget sex drug indulg back nam vaniti fair richard lawson said film abil honor footsoldi critic war sent fight could hit academi sweet spot satisfi conserv oldster younger leftier type critic said last flag fli lack light touch linklat best work guardian benjamin lee call half bake tv movi masquerad oscarbait curiou misstep oscar nomin indi auteur write robin pomeroy edit david evan'\n",
      " 'trump fight corker jeopard legisl agenda feud broke public view last week mr corker said mr trump advis guard chao presid retali sunday say retir senat gut run anoth term mr corker respond twitter hour later say white hous becom adult day care center unload interview new york time say public mani republican colleagu say privat presid danger errat treat high offic like realiti show contain staff reckless enough put countri path world war iii mr corker moder tempera well ideolog measur occasion critic mr trump month hope influenc foreign polici evid feel liber decid run third term incumb republican rush microphon echo comment monday sever made littl attempt hide irrit mr trump attack mr corker import part team particularli import part budget debat floor next week mr mcconnel said pointedli event hazard ky scott pruitt head environment protect agenc bob corker leader congress issu divers deficit reduct combat terror man unwav integr senat rob portman republican ohio said statement go accomplish econom nation secur agenda go work togeth period mr mcconnel associ blunter express leadership frustrat presid disrupt parti uniti republican push tax cut go hard matter said billi piper mr mcconnel former chief staff took guy one linchpin inciner reason advertis continu read main stori white hous spent monday tell alli mr corker respons fight mr trump senat attent seek obstructionist newslett sign continu read main stori pleas verifi robot click box invalid email address pleas enter must select newslett subscrib sign agre receiv occasion updat special offer new york time product servic thank subscrib error occur pleas tri later view new york time newslett find tweet like incred irrespons kellyann conway presid counselor told fox news refer mr corker post respons mr trump sunday add insult mainstream media presid detractor almost year elect still accept elect result add abil cover speak presid unit state way presid talk vice presid mike penc left defend mr trump call empti rhetor baseless attack say presid accomplish lot intern today nation stand without apolog leader free world mr penc said statement american leadership world stage look like amount critic home diminish result mr trump grown frustrat senat republican includ lash mr mcconnel get job done legisl repeal presid barack obama health care program repeatedli block engag open conflict senat john mccain jeff flake arizona lindsey graham south carolina lisa murkowski alaska among other although monday went golf mr graham republican senat share mr trump frustrat gridlock senat want thing move quickli said senat thom tilli north carolina elect peopl frustrat lack result senat david perdu georgia anoth member class even outspoken vent fellow republican derail health care legisl peopl upset republican senat back agenda presid said mr trump former chief strategist stephen k bannon act say presid interest organ rebellion republican establish recruit candid challeng incumb senat primari next year think presid trump behind close door mr bannon said fox news monday night refer mr corker comment call senat resign mr penc chief staff talk purg republican loyal mr trump may keep republican board even agre mr corker senat doubt presid ask john feeheri longtim republican congression aid probabl true also larg irrelev presid find way get stuff done otherwis face wrath voter someth bob corker longer worri effect mr mccain ms murkowski senat susan collin main alreadi free agent mani issu regular defect mr corker would make presid abil pass legisl much harder absent bipartisan deal democrat advertis continu read main stori chairman senat foreign relat committe mr corker could block confirm new secretari state mr trump push embattl chief diplomat rex w tillerson also presum would play key role decis whether tear iran nuclear deal senat republican frustrat trump start boil said alex conant former senat republican aid sure feel mutual insid white hous relationship alway tenuou best corker comment new low point get lot done would easier everyon get along mr conant said cours fact get along also make harder get anyth done'\n",
      " ... 'ron paul trump anarch altright'\n",
      " 'china accept oversea trial data bid speed drug approv shanghai reuter china said plan accept data oversea clinic trial speed approv drug potenti boon intern drugmak well patient often face lengthi delay new medicin reach market move outlin cabinet late sunday seek address high medicin cost access healthcar china popul nearli billion past five year china approv innov new drug one third number develop market accept oversea clinic data help global drugmak time grow competit chines rival world second biggest pharmaceut market well pressur author anxiou rein price overal china support scientif innov drug medic devic lack qualiti product market still fall short top intern level draft propos said must speed examin approv urgent need drug medic devic cabinet also said would look improv protect medic intellectu properti boost number qualiti clinic trial test center china propos contain timelin implement want make drug industri larg scale strong make competit shift long term relianc import new drug wu zhen deputi head china food drug administr told brief monday drug use oversea year make market china wu ad china march propos way speed approv import drug includ reform clinic trial requir also want boost drug industri see shift gener drug toward innov medicin medic equip report adam jourdan edit richard borsuk edwina gibb'\n",
      " 'vice presid mike penc leav nfl game anti american protest vice presid mike penc leav nfl game anti american protest reader think stori fact add two cent news donn marten vice presid mike penc attend today nation footbal leagu game indianapoli colt san francisco er chose leav sever player chose use presenc make anti american polit statement cdn http www conservativedailynew com colt honor longtim player futur hall fame quarterback peyton man ceremoni home team respect flag stand action oppos san francisco er seen suffici disrespect veep depart venu kickoff report indianapoli fox affili fox vp mike penc leav colt game er player knelt anthem vice presid mike penc decid leav indianapoli colt game sunday er player knelt nation anthem tweet former indiana governor said left today colt game potu dignifi event disrespect soldier flag nation anthem minut tweet offic releas full statement left today colt game presid trump dignifi event disrespect soldier flag nation anthem time mani american inspir nation courag resolv resili ever ralli around flag everyth unit us everyon entitl opinion think much ask nfl player respect flag nation anthem stand presid trump stand soldier alway stand flag nation anthem announc friday penc would attend game second ladi game special peyton man jersey retir halftim induct ring honor game tweet look forward honor great career peyton man penc action doubt seiz pollut nfl racial grievanc hatr presid trump proof stand white supremaci nazism dead right leav mani fan attend done well instead subject polit radic leftist racial grievanc monger driven leagu popular histor low vice presid express follow via twitter vice presid penc vp repli vp everyon entitl opinion think much ask nfl player respect flag nation anthem vice presid penc vp left today colt game potu dignifi event disrespect soldier flag nation anthem oct penc formerli governor indiana nfl need even neg public earli game even kick read vice presid mike penc leav nfl game anti american protest origin content conserv daili news conserv daili news american go news current event commentari trust cdn http www conservativedailynew com sourc http www conservativedailynew com vice presid mike penc leav nfl game anti american protest']\n"
     ]
    }
   ],
   "source": [
    "print(X)"
   ]
  },
  {
   "cell_type": "code",
   "execution_count": 37,
   "metadata": {},
   "outputs": [
    {
     "name": "stdout",
     "output_type": "stream",
     "text": [
      "[1 1 1 ... 0 1 0]\n"
     ]
    }
   ],
   "source": [
    "print(y)"
   ]
  },
  {
   "cell_type": "code",
   "execution_count": 38,
   "id": "48931275",
   "metadata": {},
   "outputs": [
    {
     "data": {
      "text/plain": [
       "((4009,), (4009,))"
      ]
     },
     "execution_count": 38,
     "metadata": {},
     "output_type": "execute_result"
    }
   ],
   "source": [
    "X.shape, y.shape"
   ]
  },
  {
   "cell_type": "code",
   "execution_count": 39,
   "id": "e91c949c",
   "metadata": {},
   "outputs": [],
   "source": [
    "# Converting the text data into numerical data using TfidfVectorizer\n",
    "vectorizer = TfidfVectorizer()\n",
    "vectorizer.fit(X)\n",
    "\n",
    "X = vectorizer.transform(X)"
   ]
  },
  {
   "cell_type": "code",
   "execution_count": 43,
   "id": "578c8218",
   "metadata": {},
   "outputs": [
    {
     "name": "stdout",
     "output_type": "stream",
     "text": [
      "  (0, 30184)\t0.015577335446991065\n",
      "  (0, 30105)\t0.010138100956414153\n",
      "  (0, 29925)\t0.04071381287423977\n",
      "  (0, 29866)\t0.02302556735837691\n",
      "  (0, 29839)\t0.02594843079913226\n",
      "  (0, 29701)\t0.02731627067801335\n",
      "  (0, 29551)\t0.0903446717463179\n",
      "  (0, 29459)\t0.021597618227067437\n",
      "  (0, 29444)\t0.017771302554684214\n",
      "  (0, 29311)\t0.02697433639807544\n",
      "  (0, 29222)\t0.018730200435309236\n",
      "  (0, 29075)\t0.021387359321615517\n",
      "  (0, 28853)\t0.02468949435722926\n",
      "  (0, 28802)\t0.024215820940514617\n",
      "  (0, 28753)\t0.03475630898700329\n",
      "  (0, 28690)\t0.029253905378133573\n",
      "  (0, 28537)\t0.02391375950042295\n",
      "  (0, 28523)\t0.024497471826251886\n",
      "  (0, 28449)\t0.019495776258929093\n",
      "  (0, 28383)\t0.036139116901976395\n",
      "  (0, 28337)\t0.03646156433375988\n",
      "  (0, 28328)\t0.037974920420926095\n",
      "  (0, 28300)\t0.037167646453401565\n",
      "  (0, 28252)\t0.023056310182459756\n",
      "  (0, 28229)\t0.01446617290179376\n",
      "  :\t:\n",
      "  (4008, 6338)\t0.042467699965906804\n",
      "  (4008, 6225)\t0.020215512049593334\n",
      "  (4008, 5853)\t0.03714317999258209\n",
      "  (4008, 5597)\t0.020634751853156684\n",
      "  (4008, 5544)\t0.08005178451950072\n",
      "  (4008, 5541)\t0.046193262440048795\n",
      "  (4008, 5325)\t0.03276867559423047\n",
      "  (4008, 5293)\t0.04498231201561313\n",
      "  (4008, 5285)\t0.2241073412439385\n",
      "  (4008, 4821)\t0.06571595543766014\n",
      "  (4008, 4457)\t0.03508445570008598\n",
      "  (4008, 4429)\t0.020964074822727632\n",
      "  (4008, 4370)\t0.05295327842375796\n",
      "  (4008, 4115)\t0.02427302851817459\n",
      "  (4008, 1620)\t0.07776767139870346\n",
      "  (4008, 1494)\t0.03786843302955785\n",
      "  (4008, 1381)\t0.017226270178953607\n",
      "  (4008, 1106)\t0.12976943524372878\n",
      "  (4008, 1098)\t0.2187858398571727\n",
      "  (4008, 1068)\t0.02229426313886801\n",
      "  (4008, 881)\t0.1256839170007312\n",
      "  (4008, 826)\t0.020565295068425745\n",
      "  (4008, 372)\t0.03436771469147665\n",
      "  (4008, 240)\t0.017917814976555403\n",
      "  (4008, 217)\t0.042467699965906804\n"
     ]
    }
   ],
   "source": [
    "print(X)"
   ]
  },
  {
   "cell_type": "code",
   "execution_count": 44,
   "id": "39f42b1c",
   "metadata": {},
   "outputs": [],
   "source": [
    "# Splitting the dataset into training and test set\n",
    "X_train, X_test, y_train, y_test = train_test_split(X, y, test_size=0.2, random_state=42, stratify=y)\n"
   ]
  },
  {
   "cell_type": "markdown",
   "id": "ec76098b",
   "metadata": {},
   "source": [
    "Modeling\n",
    "Training a Logistic Regression Model"
   ]
  },
  {
   "cell_type": "code",
   "execution_count": 52,
   "id": "56aab697",
   "metadata": {},
   "outputs": [],
   "source": [
    "model = LogisticRegression()"
   ]
  },
  {
   "cell_type": "code",
   "execution_count": 53,
   "id": "972a3762",
   "metadata": {},
   "outputs": [
    {
     "data": {
      "text/html": [
       "<style>#sk-container-id-2 {color: black;}#sk-container-id-2 pre{padding: 0;}#sk-container-id-2 div.sk-toggleable {background-color: white;}#sk-container-id-2 label.sk-toggleable__label {cursor: pointer;display: block;width: 100%;margin-bottom: 0;padding: 0.3em;box-sizing: border-box;text-align: center;}#sk-container-id-2 label.sk-toggleable__label-arrow:before {content: \"▸\";float: left;margin-right: 0.25em;color: #696969;}#sk-container-id-2 label.sk-toggleable__label-arrow:hover:before {color: black;}#sk-container-id-2 div.sk-estimator:hover label.sk-toggleable__label-arrow:before {color: black;}#sk-container-id-2 div.sk-toggleable__content {max-height: 0;max-width: 0;overflow: hidden;text-align: left;background-color: #f0f8ff;}#sk-container-id-2 div.sk-toggleable__content pre {margin: 0.2em;color: black;border-radius: 0.25em;background-color: #f0f8ff;}#sk-container-id-2 input.sk-toggleable__control:checked~div.sk-toggleable__content {max-height: 200px;max-width: 100%;overflow: auto;}#sk-container-id-2 input.sk-toggleable__control:checked~label.sk-toggleable__label-arrow:before {content: \"▾\";}#sk-container-id-2 div.sk-estimator input.sk-toggleable__control:checked~label.sk-toggleable__label {background-color: #d4ebff;}#sk-container-id-2 div.sk-label input.sk-toggleable__control:checked~label.sk-toggleable__label {background-color: #d4ebff;}#sk-container-id-2 input.sk-hidden--visually {border: 0;clip: rect(1px 1px 1px 1px);clip: rect(1px, 1px, 1px, 1px);height: 1px;margin: -1px;overflow: hidden;padding: 0;position: absolute;width: 1px;}#sk-container-id-2 div.sk-estimator {font-family: monospace;background-color: #f0f8ff;border: 1px dotted black;border-radius: 0.25em;box-sizing: border-box;margin-bottom: 0.5em;}#sk-container-id-2 div.sk-estimator:hover {background-color: #d4ebff;}#sk-container-id-2 div.sk-parallel-item::after {content: \"\";width: 100%;border-bottom: 1px solid gray;flex-grow: 1;}#sk-container-id-2 div.sk-label:hover label.sk-toggleable__label {background-color: #d4ebff;}#sk-container-id-2 div.sk-serial::before {content: \"\";position: absolute;border-left: 1px solid gray;box-sizing: border-box;top: 0;bottom: 0;left: 50%;z-index: 0;}#sk-container-id-2 div.sk-serial {display: flex;flex-direction: column;align-items: center;background-color: white;padding-right: 0.2em;padding-left: 0.2em;position: relative;}#sk-container-id-2 div.sk-item {position: relative;z-index: 1;}#sk-container-id-2 div.sk-parallel {display: flex;align-items: stretch;justify-content: center;background-color: white;position: relative;}#sk-container-id-2 div.sk-item::before, #sk-container-id-2 div.sk-parallel-item::before {content: \"\";position: absolute;border-left: 1px solid gray;box-sizing: border-box;top: 0;bottom: 0;left: 50%;z-index: -1;}#sk-container-id-2 div.sk-parallel-item {display: flex;flex-direction: column;z-index: 1;position: relative;background-color: white;}#sk-container-id-2 div.sk-parallel-item:first-child::after {align-self: flex-end;width: 50%;}#sk-container-id-2 div.sk-parallel-item:last-child::after {align-self: flex-start;width: 50%;}#sk-container-id-2 div.sk-parallel-item:only-child::after {width: 0;}#sk-container-id-2 div.sk-dashed-wrapped {border: 1px dashed gray;margin: 0 0.4em 0.5em 0.4em;box-sizing: border-box;padding-bottom: 0.4em;background-color: white;}#sk-container-id-2 div.sk-label label {font-family: monospace;font-weight: bold;display: inline-block;line-height: 1.2em;}#sk-container-id-2 div.sk-label-container {text-align: center;}#sk-container-id-2 div.sk-container {/* jupyter's `normalize.less` sets `[hidden] { display: none; }` but bootstrap.min.css set `[hidden] { display: none !important; }` so we also need the `!important` here to be able to override the default hidden behavior on the sphinx rendered scikit-learn.org. See: https://github.com/scikit-learn/scikit-learn/issues/21755 */display: inline-block !important;position: relative;}#sk-container-id-2 div.sk-text-repr-fallback {display: none;}</style><div id=\"sk-container-id-2\" class=\"sk-top-container\"><div class=\"sk-text-repr-fallback\"><pre>LogisticRegression()</pre><b>In a Jupyter environment, please rerun this cell to show the HTML representation or trust the notebook. <br />On GitHub, the HTML representation is unable to render, please try loading this page with nbviewer.org.</b></div><div class=\"sk-container\" hidden><div class=\"sk-item\"><div class=\"sk-estimator sk-toggleable\"><input class=\"sk-toggleable__control sk-hidden--visually\" id=\"sk-estimator-id-2\" type=\"checkbox\" checked><label for=\"sk-estimator-id-2\" class=\"sk-toggleable__label sk-toggleable__label-arrow\">LogisticRegression</label><div class=\"sk-toggleable__content\"><pre>LogisticRegression()</pre></div></div></div></div></div>"
      ],
      "text/plain": [
       "LogisticRegression()"
      ]
     },
     "execution_count": 53,
     "metadata": {},
     "output_type": "execute_result"
    }
   ],
   "source": [
    "model.fit(X_train, y_train)"
   ]
  },
  {
   "cell_type": "markdown",
   "id": "8cbd1a08",
   "metadata": {},
   "source": [
    "Model Evaluation\n",
    "  Accuracy_score"
   ]
  },
  {
   "cell_type": "code",
   "execution_count": 54,
   "id": "477127c7",
   "metadata": {},
   "outputs": [
    {
     "name": "stdout",
     "output_type": "stream",
     "text": [
      "Accuracy on training data: 0.9912690988462738\n"
     ]
    }
   ],
   "source": [
    "# Accuracy score on the training data\n",
    "X_train_prediction = model.predict(X_train)\n",
    "training_data_accuracy = accuracy_score(X_train_prediction, y_train)\n",
    "print('Accuracy on training data:', training_data_accuracy)"
   ]
  },
  {
   "cell_type": "code",
   "execution_count": 55,
   "id": "610af3df",
   "metadata": {},
   "outputs": [
    {
     "name": "stdout",
     "output_type": "stream",
     "text": [
      "Accuracy on test data: 0.9750623441396509\n"
     ]
    }
   ],
   "source": [
    "# Accuracy score on the test data\n",
    "X_test_prediction = model.predict(X_test)\n",
    "test_data_accuracy = accuracy_score(X_test_prediction, y_test)\n",
    "print('Accuracy on test data:', test_data_accuracy)"
   ]
  },
  {
   "cell_type": "markdown",
   "id": "923943ae",
   "metadata": {},
   "source": [
    "Prediction System"
   ]
  },
  {
   "cell_type": "code",
   "execution_count": 61,
   "id": "ecc63d56",
   "metadata": {},
   "outputs": [
    {
     "name": "stdout",
     "output_type": "stream",
     "text": [
      "[0]\n",
      "The news is:  Real\n"
     ]
    }
   ],
   "source": [
    "# 1--> fake\n",
    "# 0--> real\n",
    "X_new = X_test[3]\n",
    "prediction = model.predict(X_new)\n",
    "print(prediction)\n",
    "print('The news is: ', 'Fake' if prediction[0] == 1 else 'Real')"
   ]
  },
  {
   "cell_type": "code",
   "execution_count": 62,
   "id": "799cf456",
   "metadata": {},
   "outputs": [
    {
     "name": "stdout",
     "output_type": "stream",
     "text": [
      "0\n"
     ]
    }
   ],
   "source": [
    "print(y_test[3])"
   ]
  },
  {
   "cell_type": "code",
   "execution_count": null,
   "id": "a9fb3d98",
   "metadata": {},
   "outputs": [],
   "source": []
  }
 ],
 "metadata": {
  "kernelspec": {
   "display_name": "Python 3",
   "language": "python",
   "name": "python3"
  },
  "language_info": {
   "codemirror_mode": {
    "name": "ipython",
    "version": 3
   },
   "file_extension": ".py",
   "mimetype": "text/x-python",
   "name": "python",
   "nbconvert_exporter": "python",
   "pygments_lexer": "ipython3",
   "version": "3.8.10"
  }
 },
 "nbformat": 4,
 "nbformat_minor": 5
}
